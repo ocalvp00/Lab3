{
  "nbformat": 4,
  "nbformat_minor": 0,
  "metadata": {
    "colab": {
      "provenance": [],
      "authorship_tag": "ABX9TyMN6MVHmz4S0zAuEkr7vLmG",
      "include_colab_link": true
    },
    "kernelspec": {
      "name": "python3",
      "display_name": "Python 3"
    },
    "language_info": {
      "name": "python"
    }
  },
  "cells": [
    {
      "cell_type": "markdown",
      "metadata": {
        "id": "view-in-github",
        "colab_type": "text"
      },
      "source": [
        "<a href=\"https://colab.research.google.com/github/ocalvp00/Lab3/blob/main/agentEnv.ipynb\" target=\"_parent\"><img src=\"https://colab.research.google.com/assets/colab-badge.svg\" alt=\"Open In Colab\"/></a>"
      ]
    },
    {
      "cell_type": "code",
      "source": [
        "# agentEnv.py - Agent environment\n",
        "# AIFCA Python3 code Version 0.7.1 Documentation at http://aipython.org\n",
        "\n",
        "# Artificial Intelligence: Foundations of Computational Agents\n",
        "# http://artint.info\n",
        "# Copyright David L Poole and Alan K Mackworth 2017.\n",
        "# This work is licensed under a Creative Commons\n",
        "# Attribution-NonCommercial-ShareAlike 4.0 International License.\n",
        "# See: http://creativecommons.org/licenses/by-nc-sa/4.0/deed.en\n",
        "\n",
        "import math\n",
        "import time\n",
        "\n",
        "import matplotlib.pyplot as plt\n",
        "\n",
        "from agents import Environment\n",
        "\n",
        "\n",
        "class Rob_env(Environment):\n",
        "    def __init__(self, walls={}):\n",
        "        \"\"\"walls is a set of line segments\n",
        "               where each line segment is of the form ((x0,y0),(x1,y1))\n",
        "        \"\"\"\n",
        "        self.walls = walls\n",
        "\n",
        "\n",
        "class Rob_body(Environment):\n",
        "    def __init__(self, env, init_pos=(0, 0, 90)):\n",
        "        \"\"\" env is the current environment\n",
        "        init_pos is a triple of (x-position, y-position, direction)\n",
        "            direction is in degrees; 0 is to right, 90 is straight-up, etc\n",
        "        \"\"\"\n",
        "        self.env = env\n",
        "        self.rob_x, self.rob_y, self.rob_dir = init_pos\n",
        "        self.turning_angle = 18   # degrees that a left makes\n",
        "        self.whisker_length = 6   # length of the whisker\n",
        "        self.whisker_angle = 30   # angle of whisker relative to robot\n",
        "        self.crashed = False\n",
        "        # The following control how it is plotted\n",
        "        self.plotting = True      # whether the trace is being plotted\n",
        "        self.sleep_time = 0.05     # time between actions (for real-time plotting)\n",
        "        # The following are data structures maintained:\n",
        "        self.history = [(self.rob_x, self.rob_y)]  # history of (x,y) positions\n",
        "        self.wall_history = []     # history of hitting the wall\n",
        "\n",
        "    def percepts(self):\n",
        "        return {'rob_x_pos': self.rob_x, 'rob_y_pos': self.rob_y,\n",
        "                'rob_dir': self.rob_dir, 'whisker': self.whisker(), 'crashed': self.crashed}\n",
        "    initial_percepts = percepts  # use percept function for initial percepts too\n",
        "\n",
        "    def do(self, action):\n",
        "        \"\"\" action is {'steer':direction}\n",
        "        direction is 'left', 'right' or 'straight'\n",
        "        \"\"\"\n",
        "        if self.crashed:\n",
        "            return self.percepts()\n",
        "        direction = action['steer']\n",
        "        compass_deriv = {'left': 1, 'straight': 0, 'right': -1}[direction] * self.turning_angle\n",
        "        self.rob_dir = (self.rob_dir + compass_deriv + 360) % 360  # make in range [0,360)\n",
        "        rob_x_new = self.rob_x + math.cos(self.rob_dir * math.pi / 180)\n",
        "        rob_y_new = self.rob_y + math.sin(self.rob_dir * math.pi / 180)\n",
        "        path = ((self.rob_x, self.rob_y), (rob_x_new, rob_y_new))\n",
        "        if any(line_segments_intersect(path, wall) for wall in self.env.walls):\n",
        "            self.crashed = True\n",
        "            if self.plotting:\n",
        "                plt.plot([self.rob_x], [self.rob_y], \"r*\", markersize=20.0)\n",
        "                plt.draw()\n",
        "        self.rob_x, self.rob_y = rob_x_new, rob_y_new\n",
        "        self.history.append((self.rob_x, self.rob_y))\n",
        "        if self.plotting and not self.crashed:\n",
        "            plt.plot([self.rob_x], [self.rob_y], \"go\")\n",
        "            plt.draw()\n",
        "            plt.pause(self.sleep_time)\n",
        "        return self.percepts()\n",
        "\n",
        "    def whisker(self):\n",
        "        \"\"\"returns true whenever the whisker sensor intersects with a wall\n",
        "        \"\"\"\n",
        "        whisk_ang_world = (self.rob_dir - self.whisker_angle) * math.pi / 180\n",
        "        # angle in radians in world coordinates\n",
        "        wx = self.rob_x + self.whisker_length * math.cos(whisk_ang_world)\n",
        "        wy = self.rob_y + self.whisker_length * math.sin(whisk_ang_world)\n",
        "        whisker_line = ((self.rob_x, self.rob_y), (wx, wy))\n",
        "        hit = any(line_segments_intersect(whisker_line, wall)\n",
        "                  for wall in self.env.walls)\n",
        "        if hit:\n",
        "            self.wall_history.append((self.rob_x, self.rob_y))\n",
        "            if self.plotting:\n",
        "                plt.plot([self.rob_x], [self.rob_y], \"ro\")\n",
        "                plt.draw()\n",
        "        return hit\n",
        "\n",
        "\n",
        "def line_segments_intersect(linea, lineb):\n",
        "    \"\"\"returns true if the line segments, linea and lineb intersect.\n",
        "    A line segment is represented as a pair of points.\n",
        "    A point is represented as a (x,y) pair.\n",
        "    \"\"\"\n",
        "    ((x0a, y0a), (x1a, y1a)) = linea\n",
        "    ((x0b, y0b), (x1b, y1b)) = lineb\n",
        "    da, db = x1a - x0a, x1b - x0b\n",
        "    ea, eb = y1a - y0a, y1b - y0b\n",
        "    denom = db * ea - eb * da\n",
        "    if denom == 0:    # line segments are parallel\n",
        "        return False\n",
        "    cb = (da * (y0b - y0a) - ea * (x0b - x0a)) / denom  # position along line b\n",
        "    if cb < 0 or cb > 1:\n",
        "        return False\n",
        "    ca = (db * (y0b - y0a) - eb * (x0b - x0a)) / denom  # position along line a\n",
        "    return 0 <= ca <= 1\n",
        "\n",
        "# Test cases:\n",
        "# assert line_segments_intersect(((0,0),(1,1)),((1,0),(0,1)))\n",
        "# assert not line_segments_intersect(((0,0),(1,1)),((1,0),(0.6,0.4)))\n",
        "# assert line_segments_intersect(((0,0),(1,1)),((1,0),(0.4,0.6)))\n"
      ],
      "metadata": {
        "colab": {
          "base_uri": "https://localhost:8080/"
        },
        "id": "17GX7WUIYNG1",
        "outputId": "b573fd5d-c49b-472d-c3d7-e789ec01d841"
      },
      "execution_count": null,
      "outputs": [
        {
          "output_type": "error",
          "ename": "ModuleNotFoundError",
          "evalue": "ignored",
          "traceback": [
            "\u001b[0;31m---------------------------------------------------------------------------\u001b[0m",
            "\u001b[0;31mModuleNotFoundError\u001b[0m                       Traceback (most recent call last)",
            "\u001b[0;32m<ipython-input-1-547a7f20b199>\u001b[0m in \u001b[0;36m<cell line: 16>\u001b[0;34m()\u001b[0m\n\u001b[1;32m     14\u001b[0m \u001b[0;32mimport\u001b[0m \u001b[0mmatplotlib\u001b[0m\u001b[0;34m.\u001b[0m\u001b[0mpyplot\u001b[0m \u001b[0;32mas\u001b[0m \u001b[0mplt\u001b[0m\u001b[0;34m\u001b[0m\u001b[0;34m\u001b[0m\u001b[0m\n\u001b[1;32m     15\u001b[0m \u001b[0;34m\u001b[0m\u001b[0m\n\u001b[0;32m---> 16\u001b[0;31m \u001b[0;32mfrom\u001b[0m \u001b[0magents\u001b[0m \u001b[0;32mimport\u001b[0m \u001b[0mEnvironment\u001b[0m\u001b[0;34m\u001b[0m\u001b[0;34m\u001b[0m\u001b[0m\n\u001b[0m\u001b[1;32m     17\u001b[0m \u001b[0;34m\u001b[0m\u001b[0m\n\u001b[1;32m     18\u001b[0m \u001b[0;34m\u001b[0m\u001b[0m\n",
            "\u001b[0;31mModuleNotFoundError\u001b[0m: No module named 'agents'",
            "",
            "\u001b[0;31m---------------------------------------------------------------------------\u001b[0;32m\nNOTE: If your import is failing due to a missing package, you can\nmanually install dependencies using either !pip or !apt.\n\nTo view examples of installing some common dependencies, click the\n\"Open Examples\" button below.\n\u001b[0;31m---------------------------------------------------------------------------\u001b[0m\n"
          ],
          "errorDetails": {
            "actions": [
              {
                "action": "open_url",
                "actionText": "Open Examples",
                "url": "/notebooks/snippets/importing_libraries.ipynb"
              }
            ]
          }
        }
      ]
    }
  ]
}