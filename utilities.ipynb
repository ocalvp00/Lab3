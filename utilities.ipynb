{
  "nbformat": 4,
  "nbformat_minor": 0,
  "metadata": {
    "colab": {
      "provenance": [],
      "authorship_tag": "ABX9TyOguAIB7GfQ8sZQGoEFlp8Q",
      "include_colab_link": true
    },
    "kernelspec": {
      "name": "python3",
      "display_name": "Python 3"
    },
    "language_info": {
      "name": "python"
    }
  },
  "cells": [
    {
      "cell_type": "markdown",
      "metadata": {
        "id": "view-in-github",
        "colab_type": "text"
      },
      "source": [
        "<a href=\"https://colab.research.google.com/github/ocalvp00/Lab3/blob/main/utilities.ipynb\" target=\"_parent\"><img src=\"https://colab.research.google.com/assets/colab-badge.svg\" alt=\"Open In Colab\"/></a>"
      ]
    },
    {
      "cell_type": "code",
      "execution_count": null,
      "metadata": {
        "colab": {
          "base_uri": "https://localhost:8080/"
        },
        "id": "C6QH7w4xY8JA",
        "outputId": "885704a8-e863-4dac-dbc3-4904ab4fef91"
      },
      "outputs": [
        {
          "output_type": "stream",
          "name": "stdout",
          "text": [
            "Passed unit test in utilities\n"
          ]
        }
      ],
      "source": [
        "# utilities.py - AIFCA utilities\n",
        "# dependency needed for agents.py\n",
        "# AIFCA Python3 code Version 0.7.1 Documentation at http://aipython.org\n",
        "\n",
        "\n",
        "# Artificial Intelligence: Foundations of Computational Agents\n",
        "# http://artint.info\n",
        "# Copyright David L Poole and Alan K Mackworth 2017.\n",
        "# This work is licensed under a Creative Commons\n",
        "# Attribution-NonCommercial-ShareAlike 4.0 International License.\n",
        "# See: http://creativecommons.org/licenses/by-nc-sa/4.0/deed.en\n",
        "\n",
        "\n",
        "import random\n",
        "\n",
        "\n",
        "class Displayable(object):\n",
        "    max_display_level = 4   # can be overridden in subclasses\n",
        "\n",
        "    def display(self, level, *args, **nargs):\n",
        "        \"\"\"print the arguments if level is less than or equal to the\n",
        "        current max_display_level.\n",
        "        level is an integer.\n",
        "        the other arguments are whatever arguments print can take.\n",
        "        \"\"\"\n",
        "        if level <= self.max_display_level:\n",
        "            print(*args, **nargs)  # if error you are using Python2 not Python3\n",
        "\n",
        "\n",
        "def argmax(gen):\n",
        "    \"\"\"gen is a generator of (element,value) pairs, where value is a real.\n",
        "    argmax returns an element with maximal value.\n",
        "    If there are multiple elements with the max value, one is returned at random.\n",
        "    \"\"\"\n",
        "    maxv = float('-Infinity')       # negative infinity\n",
        "    maxvals = []      # list of maximal elements\n",
        "    for (e, v) in gen:\n",
        "        if v > maxv:\n",
        "            maxvals, maxv = [e], v\n",
        "        elif v == maxv:\n",
        "            maxvals.append(e)\n",
        "    return random.choice(maxvals)\n",
        "\n",
        "# Try:\n",
        "# argmax(enumerate([1,6,3,77,3,55,23]))\n",
        "\n",
        "\n",
        "def flip(prob):\n",
        "    \"\"\"return true with probability prob\"\"\"\n",
        "    return random.random() < prob\n",
        "\n",
        "\n",
        "def dict_union(d1, d2):\n",
        "    \"\"\"returns a dictionary that contains the keys of d1 and d2.\n",
        "    The value for each key that is in d2 is the value from d2,\n",
        "    otherwise it is the value from d1.\n",
        "    This does not have side effects.\n",
        "    \"\"\"\n",
        "    d = dict(d1)    # copy d1\n",
        "    d.update(d2)\n",
        "    return d\n",
        "\n",
        "\n",
        "def test():\n",
        "    \"\"\"Test part of utilities\"\"\"\n",
        "    assert argmax(enumerate([1, 6, 55, 3, 55, 23])) in [2, 4]\n",
        "    assert dict_union({1: 4, 2: 5, 3: 4}, {5: 7, 2: 9}) == {1: 4, 2: 9, 3: 4, 5: 7}\n",
        "    print(\"Passed unit test in utilities\")\n",
        "\n",
        "\n",
        "if __name__ == \"__main__\":\n",
        "    test()"
      ]
    }
  ]
}